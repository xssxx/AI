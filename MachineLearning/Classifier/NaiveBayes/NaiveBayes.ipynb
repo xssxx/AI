{
 "cells": [
  {
   "cell_type": "code",
   "execution_count": 51,
   "metadata": {},
   "outputs": [],
   "source": [
    "import pandas as pd\n",
    "import numpy as np\n",
    "import matplotlib.pyplot as plt\n",
    "import nltk"
   ]
  },
  {
   "cell_type": "code",
   "execution_count": 52,
   "metadata": {},
   "outputs": [
    {
     "data": {
      "text/html": [
       "<div>\n",
       "<style scoped>\n",
       "    .dataframe tbody tr th:only-of-type {\n",
       "        vertical-align: middle;\n",
       "    }\n",
       "\n",
       "    .dataframe tbody tr th {\n",
       "        vertical-align: top;\n",
       "    }\n",
       "\n",
       "    .dataframe thead th {\n",
       "        text-align: right;\n",
       "    }\n",
       "</style>\n",
       "<table border=\"1\" class=\"dataframe\">\n",
       "  <thead>\n",
       "    <tr style=\"text-align: right;\">\n",
       "      <th></th>\n",
       "      <th>spam</th>\n",
       "      <th>message</th>\n",
       "    </tr>\n",
       "  </thead>\n",
       "  <tbody>\n",
       "    <tr>\n",
       "      <th>0</th>\n",
       "      <td>0</td>\n",
       "      <td>Go until jurong point, crazy.. Available only ...</td>\n",
       "    </tr>\n",
       "    <tr>\n",
       "      <th>1</th>\n",
       "      <td>0</td>\n",
       "      <td>Ok lar... Joking wif u oni...</td>\n",
       "    </tr>\n",
       "    <tr>\n",
       "      <th>2</th>\n",
       "      <td>1</td>\n",
       "      <td>Free entry in 2 a wkly comp to win FA Cup fina...</td>\n",
       "    </tr>\n",
       "    <tr>\n",
       "      <th>3</th>\n",
       "      <td>0</td>\n",
       "      <td>U dun say so early hor... U c already then say...</td>\n",
       "    </tr>\n",
       "    <tr>\n",
       "      <th>4</th>\n",
       "      <td>0</td>\n",
       "      <td>Nah I don't think he goes to usf, he lives aro...</td>\n",
       "    </tr>\n",
       "  </tbody>\n",
       "</table>\n",
       "</div>"
      ],
      "text/plain": [
       "   spam                                            message\n",
       "0     0  Go until jurong point, crazy.. Available only ...\n",
       "1     0                      Ok lar... Joking wif u oni...\n",
       "2     1  Free entry in 2 a wkly comp to win FA Cup fina...\n",
       "3     0  U dun say so early hor... U c already then say...\n",
       "4     0  Nah I don't think he goes to usf, he lives aro..."
      ]
     },
     "execution_count": 52,
     "metadata": {},
     "output_type": "execute_result"
    }
   ],
   "source": [
    "df = pd.read_csv('spam.csv', encoding='latin-1').iloc[:, :2]\n",
    "df.rename(columns= {'v1': 'spam', 'v2': 'message'}, inplace=True)\n",
    "df['spam'] = df['spam'].map({'ham': 0, 'spam': 1})\n",
    "df.head()"
   ]
  },
  {
   "cell_type": "code",
   "execution_count": 53,
   "metadata": {},
   "outputs": [
    {
     "data": {
      "text/plain": [
       "spam\n",
       "0    4825\n",
       "1     747\n",
       "Name: count, dtype: int64"
      ]
     },
     "execution_count": 53,
     "metadata": {},
     "output_type": "execute_result"
    }
   ],
   "source": [
    "df['spam'].value_counts()"
   ]
  },
  {
   "cell_type": "markdown",
   "metadata": {},
   "source": [
    "### แบ่ง train set 70% test set 30%"
   ]
  },
  {
   "cell_type": "code",
   "execution_count": 54,
   "metadata": {},
   "outputs": [
    {
     "data": {
      "text/plain": [
       "(spam\n",
       " 0    3382\n",
       " 1     519\n",
       " Name: count, dtype: int64,\n",
       " spam\n",
       " 0    1442\n",
       " 1     228\n",
       " Name: count, dtype: int64)"
      ]
     },
     "execution_count": 54,
     "metadata": {},
     "output_type": "execute_result"
    }
   ],
   "source": [
    "all_mails_count = df['spam'].count()\n",
    "\n",
    "train_data = df.loc[:all_mails_count * 0.7] # 70%\n",
    "test_data = df.loc[all_mails_count * 0.7 + 1:] # 30%\n",
    "test_data.reset_index(inplace = True)\n",
    "test_data.drop(columns='index')\n",
    "train_data['spam'].value_counts(), test_data['spam'].value_counts()"
   ]
  },
  {
   "cell_type": "code",
   "execution_count": 55,
   "metadata": {},
   "outputs": [],
   "source": [
    "\"\"\"\n",
    "function นับจำนวนคำ\n",
    "@param  data    set ของข้อความ\n",
    "@return dictionary key = คำที่พบ, value = จำนวน\n",
    "\"\"\"\n",
    "def count_words(data: set) -> dict:\n",
    "    counter = dict()\n",
    "    for message in data:\n",
    "        for word in message.split(' '):\n",
    "            if word in counter:\n",
    "                counter[word] += 1\n",
    "            else:\n",
    "                counter[word] = 1\n",
    "    \n",
    "    return counter"
   ]
  },
  {
   "cell_type": "code",
   "execution_count": 56,
   "metadata": {},
   "outputs": [],
   "source": [
    "spam_messages = set(train_data.query('spam == 1')['message'])\n",
    "spam_words = count_words(spam_messages)\n",
    "\n",
    "ham_messages = set(train_data.query('spam == 0')['message'])\n",
    "ham_words = count_words(ham_messages)"
   ]
  },
  {
   "cell_type": "code",
   "execution_count": 57,
   "metadata": {},
   "outputs": [],
   "source": [
    "def bar_chart_words(words, top=10, messages_type='', color='pink'):\n",
    "    top_spam = np.array(sorted(words.items(), key=lambda x: -x[1]))[:top]\n",
    "    top_words = top_spam[::-1, 0]\n",
    "    top_words_count = [int(i) for i in top_spam[::-1, 1]]\n",
    "\n",
    "    if messages_type:\n",
    "        messages_type = messages_type + \" \"\n",
    "    plt.figure(figsize=(6, 4))\n",
    "    plt.title(f\"Top {top} most common words in {messages_type}messages\")\n",
    "    plt.xlabel(f\"Number of words\")\n",
    "    plt.barh(top_words, top_words_count, color=color)\n",
    "    plt.show()"
   ]
  },
  {
   "cell_type": "code",
   "execution_count": 58,
   "metadata": {},
   "outputs": [
    {
     "data": {
      "image/png": "[encoded data removed]",
      "text/plain": [
       "<Figure size 600x400 with 1 Axes>"
      ]
     },
     "metadata": {},
     "output_type": "display_data"
    }
   ],
   "source": [
    "bar_chart_words(spam_words, top=15, messages_type='spam')"
   ]
  },
  {
   "cell_type": "code",
   "execution_count": 59,
   "metadata": {},
   "outputs": [
    {
     "data": {
      "image/png": "[encoded data removed]",
      "text/plain": [
       "<Figure size 600x400 with 1 Axes>"
      ]
     },
     "metadata": {},
     "output_type": "display_data"
    }
   ],
   "source": [
    "bar_chart_words(ham_words, top=15, messages_type='ham', color='green')"
   ]
  },
  {
   "cell_type": "code",
   "execution_count": 60,
   "metadata": {},
   "outputs": [
    {
     "data": {
      "text/html": [
       "<div>\n",
       "<style scoped>\n",
       "    .dataframe tbody tr th:only-of-type {\n",
       "        vertical-align: middle;\n",
       "    }\n",
       "\n",
       "    .dataframe tbody tr th {\n",
       "        vertical-align: top;\n",
       "    }\n",
       "\n",
       "    .dataframe thead th {\n",
       "        text-align: right;\n",
       "    }\n",
       "</style>\n",
       "<table border=\"1\" class=\"dataframe\">\n",
       "  <thead>\n",
       "    <tr style=\"text-align: right;\">\n",
       "      <th></th>\n",
       "      <th>words</th>\n",
       "    </tr>\n",
       "  </thead>\n",
       "  <tbody>\n",
       "    <tr>\n",
       "      <th>0</th>\n",
       "      <td>the</td>\n",
       "    </tr>\n",
       "    <tr>\n",
       "      <th>1</th>\n",
       "      <td>and</td>\n",
       "    </tr>\n",
       "    <tr>\n",
       "      <th>2</th>\n",
       "      <td>have</td>\n",
       "    </tr>\n",
       "    <tr>\n",
       "      <th>3</th>\n",
       "      <td>that</td>\n",
       "    </tr>\n",
       "    <tr>\n",
       "      <th>4</th>\n",
       "      <td>for</td>\n",
       "    </tr>\n",
       "  </tbody>\n",
       "</table>\n",
       "</div>"
      ],
      "text/plain": [
       "  words\n",
       "0   the\n",
       "1   and\n",
       "2  have\n",
       "3  that\n",
       "4   for"
      ]
     },
     "execution_count": 60,
     "metadata": {},
     "output_type": "execute_result"
    }
   ],
   "source": [
    "words = pd.read_csv('english_words.csv', encoding='UTF-8', delim_whitespace='\\n')\n",
    "words.rename(columns={'Source-http://www.wordfrequency.info/': 'words'}, inplace=True)\n",
    "words.head()"
   ]
  },
  {
   "cell_type": "code",
   "execution_count": 61,
   "metadata": {},
   "outputs": [
    {
     "name": "stderr",
     "output_type": "stream",
     "text": [
      "[nltk_data] Downloading package stopwords to C:\\Users\\Administrator.LE\n",
      "[nltk_data]     JER0FQOX6AT6H\\AppData\\Roaming\\nltk_data...\n",
      "[nltk_data]   Package stopwords is already up-to-date!\n",
      "[nltk_data] Downloading package punkt to C:\\Users\\Administrator.LEJER0\n",
      "[nltk_data]     FQOX6AT6H\\AppData\\Roaming\\nltk_data...\n",
      "[nltk_data]   Package punkt is already up-to-date!\n"
     ]
    }
   ],
   "source": [
    "nltk.download('stopwords')\n",
    "nltk.download('punkt')\n",
    "wordlist = set(words['words'])\n",
    "stop_words = nltk.corpus.stopwords.words('english')"
   ]
  },
  {
   "cell_type": "code",
   "execution_count": 62,
   "metadata": {},
   "outputs": [],
   "source": [
    "def process_message(message):\n",
    "    words = message.lower()\n",
    "    words = nltk.word_tokenize(words)\n",
    "    words = [word for word in words if len(word) > 1]\n",
    "    words = [word for word in words if word not in stop_words]\n",
    "    words = [word for word in words if word in wordlist]\n",
    "    words = [nltk.PorterStemmer().stem(word) for word in words]\n",
    "\n",
    "    return words"
   ]
  },
  {
   "cell_type": "code",
   "execution_count": 63,
   "metadata": {},
   "outputs": [],
   "source": [
    "def count_processed_words(data):\n",
    "    counter = dict()\n",
    "    for message in data:\n",
    "        words = process_message(message)\n",
    "        for word in set(words):\n",
    "            if word in counter:\n",
    "                counter[word] += 1\n",
    "            else:\n",
    "                counter[word] = 1\n",
    "    \n",
    "    return counter"
   ]
  },
  {
   "cell_type": "code",
   "execution_count": 64,
   "metadata": {},
   "outputs": [],
   "source": [
    "spam_words = count_processed_words(spam_messages)\n",
    "ham_words = count_processed_words(ham_messages)\n",
    "\n",
    "spam_messages = [i for i in spam_messages if len(process_message(i)) >= 1]\n",
    "ham_messages = [i for i in ham_messages if len(process_message(i)) >= 1]\n",
    "\n",
    "all_messages = spam_messages + ham_messages\n",
    "all_words = count_processed_words(all_messages)"
   ]
  },
  {
   "cell_type": "markdown",
   "metadata": {},
   "source": [
    "$ P(class|data) = \\frac{P(class|data)P(class)}{P(data)} $"
   ]
  },
  {
   "cell_type": "code",
   "execution_count": 65,
   "metadata": {},
   "outputs": [],
   "source": [
    "def spam(message, s=1, p=0.5):\n",
    "    n = 0\n",
    "    spam_freq = 0\n",
    "    ham_freq = 0\n",
    "    for word in process_message(message):\n",
    "        if word in spam_words.keys():\n",
    "            spam_freq = (spam_words[word] / all_words[word])\n",
    "        if word in ham_words.keys():\n",
    "            ham_freq = (ham_words[word] / all_words[word])\n",
    "        if not (spam_freq + ham_freq) == 0 and word in all_words.keys():\n",
    "            spaminess_of_word = (spam_freq) /  (spam_freq + ham_freq)\n",
    "            corr_spaminess = (s * p + all_words[word] * spaminess_of_word) / (s + all_words[word])\n",
    "            n += np.log(1 - corr_spaminess) - np.log(corr_spaminess)\n",
    "\n",
    "    spam_result = 1 / (1 + np.e**n)\n",
    "\n",
    "    print(f'Spam probability: {spam_result * 100:.2f}%')\n"
   ]
  },
  {
   "cell_type": "code",
   "execution_count": 66,
   "metadata": {},
   "outputs": [
    {
     "name": "stdout",
     "output_type": "stream",
     "text": [
      "Spam probability: 77.12%\n"
     ]
    }
   ],
   "source": [
    "spam(\"Join SoftUni, FREE Programming Basics course! Don't miss out on this offer! Become a code wizard GUARANTEED!\")"
   ]
  },
  {
   "cell_type": "code",
   "execution_count": 67,
   "metadata": {},
   "outputs": [
    {
     "name": "stdout",
     "output_type": "stream",
     "text": [
      "Spam probability: 0.00%\n"
     ]
    }
   ],
   "source": [
    "spam(\"Hey man, SoftUni is pretty great. This Data Science course? Highly recommend.\")"
   ]
  },
  {
   "cell_type": "code",
   "execution_count": 68,
   "metadata": {},
   "outputs": [
    {
     "name": "stdout",
     "output_type": "stream",
     "text": [
      "Spam probability: 1.10%\n"
     ]
    }
   ],
   "source": [
    "spam(\"Call me when you get home\")"
   ]
  },
  {
   "cell_type": "code",
   "execution_count": 69,
   "metadata": {},
   "outputs": [
    {
     "name": "stdout",
     "output_type": "stream",
     "text": [
      "Spam probability: 49.10%\n"
     ]
    }
   ],
   "source": [
    "spam(\"Call me now to win a FREE home!\")"
   ]
  },
  {
   "cell_type": "code",
   "execution_count": 70,
   "metadata": {},
   "outputs": [
    {
     "name": "stdout",
     "output_type": "stream",
     "text": [
      "Spam probability: 99.32%\n"
     ]
    }
   ],
   "source": [
    "spam(\"Call now to win a FREE prize!\")"
   ]
  }
 ],
 "metadata": {
  "kernelspec": {
   "display_name": "Python 3.8.10 64-bit",
   "language": "python",
   "name": "python3"
  },
  "language_info": {
   "codemirror_mode": {
    "name": "ipython",
    "version": 3
   },
   "file_extension": ".py",
   "mimetype": "text/x-python",
   "name": "python",
   "nbconvert_exporter": "python",
   "pygments_lexer": "ipython3",
   "version": "3.8.10"
  },
  "orig_nbformat": 4,
  "vscode": {
   "interpreter": {
    "hash": "ffbfc792e496a15b6b750fac43e7a9afdc7c26545a7abda9dc172ad3cb978227"
   }
  }
 },
 "nbformat": 4,
 "nbformat_minor": 2
}
