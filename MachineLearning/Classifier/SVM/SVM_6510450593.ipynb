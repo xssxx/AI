{
 "cells": [
  {
   "cell_type": "markdown",
   "metadata": {},
   "source": [
    "### ปริยวิศว์ เตชะกฤตเมธีธำรง 6510450593"
   ]
  },
  {
   "cell_type": "code",
   "execution_count": 1,
   "metadata": {},
   "outputs": [],
   "source": [
    "import pandas as pd\n",
    "import numpy as np\n",
    "from sklearn.svm import SVC, LinearSVC\n",
    "from sklearn.pipeline import make_pipeline\n",
    "from sklearn.model_selection import train_test_split, cross_val_score\n",
    "from sklearn.preprocessing import OneHotEncoder, LabelEncoder\n",
    "from sklearn.compose import make_column_transformer\n",
    "from sklearn import metrics"
   ]
  },
  {
   "cell_type": "code",
   "execution_count": 2,
   "metadata": {},
   "outputs": [
    {
     "data": {
      "text/html": [
       "<div>\n",
       "<style scoped>\n",
       "    .dataframe tbody tr th:only-of-type {\n",
       "        vertical-align: middle;\n",
       "    }\n",
       "\n",
       "    .dataframe tbody tr th {\n",
       "        vertical-align: top;\n",
       "    }\n",
       "\n",
       "    .dataframe thead th {\n",
       "        text-align: right;\n",
       "    }\n",
       "</style>\n",
       "<table border=\"1\" class=\"dataframe\">\n",
       "  <thead>\n",
       "    <tr style=\"text-align: right;\">\n",
       "      <th></th>\n",
       "      <th>Age</th>\n",
       "      <th>kidney diseases</th>\n",
       "      <th>Fasting Blood sugar</th>\n",
       "      <th>Uri infection</th>\n",
       "      <th>exercise habit</th>\n",
       "      <th>Frequency of alcohol consumption</th>\n",
       "      <th>Smoking habit</th>\n",
       "      <th>profession</th>\n",
       "      <th>#hours spent sitting per day</th>\n",
       "      <th>Diagnosis</th>\n",
       "    </tr>\n",
       "  </thead>\n",
       "  <tbody>\n",
       "    <tr>\n",
       "      <th>0</th>\n",
       "      <td>30</td>\n",
       "      <td>no</td>\n",
       "      <td>80</td>\n",
       "      <td>yes</td>\n",
       "      <td>more than 3 months ago</td>\n",
       "      <td>once a week</td>\n",
       "      <td>occasional</td>\n",
       "      <td>engineer</td>\n",
       "      <td>16</td>\n",
       "      <td>Normal</td>\n",
       "    </tr>\n",
       "    <tr>\n",
       "      <th>1</th>\n",
       "      <td>35</td>\n",
       "      <td>yes</td>\n",
       "      <td>140</td>\n",
       "      <td>yes</td>\n",
       "      <td>less than 3 hours a week</td>\n",
       "      <td>once a week</td>\n",
       "      <td>daily</td>\n",
       "      <td>engineer</td>\n",
       "      <td>6</td>\n",
       "      <td>weak</td>\n",
       "    </tr>\n",
       "    <tr>\n",
       "      <th>2</th>\n",
       "      <td>27</td>\n",
       "      <td>yes</td>\n",
       "      <td>99</td>\n",
       "      <td>no</td>\n",
       "      <td>no</td>\n",
       "      <td>hardly ever or never</td>\n",
       "      <td>never</td>\n",
       "      <td>engineer</td>\n",
       "      <td>9</td>\n",
       "      <td>Normal</td>\n",
       "    </tr>\n",
       "    <tr>\n",
       "      <th>3</th>\n",
       "      <td>44</td>\n",
       "      <td>no</td>\n",
       "      <td>96</td>\n",
       "      <td>yes</td>\n",
       "      <td>more than 3 months ago</td>\n",
       "      <td>hardly ever or never</td>\n",
       "      <td>never</td>\n",
       "      <td>pilot</td>\n",
       "      <td>7</td>\n",
       "      <td>Normal</td>\n",
       "    </tr>\n",
       "    <tr>\n",
       "      <th>4</th>\n",
       "      <td>30</td>\n",
       "      <td>yes</td>\n",
       "      <td>134</td>\n",
       "      <td>no</td>\n",
       "      <td>less than 3 hours a week</td>\n",
       "      <td>once a week</td>\n",
       "      <td>never</td>\n",
       "      <td>engineer</td>\n",
       "      <td>9</td>\n",
       "      <td>weak</td>\n",
       "    </tr>\n",
       "  </tbody>\n",
       "</table>\n",
       "</div>"
      ],
      "text/plain": [
       "   Age kidney diseases  Fasting Blood sugar Uri infection   \n",
       "0   30              no                   80           yes  \\\n",
       "1   35             yes                  140           yes   \n",
       "2   27             yes                   99            no   \n",
       "3   44              no                   96           yes   \n",
       "4   30             yes                  134            no   \n",
       "\n",
       "             exercise habit Frequency of alcohol consumption Smoking habit   \n",
       "0    more than 3 months ago                      once a week    occasional  \\\n",
       "1  less than 3 hours a week                      once a week         daily   \n",
       "2                        no             hardly ever or never         never   \n",
       "3    more than 3 months ago             hardly ever or never         never   \n",
       "4  less than 3 hours a week                      once a week         never   \n",
       "\n",
       "  profession  #hours spent sitting per day Diagnosis  \n",
       "0   engineer                            16    Normal  \n",
       "1   engineer                             6      weak  \n",
       "2   engineer                             9    Normal  \n",
       "3      pilot                             7    Normal  \n",
       "4   engineer                             9      weak  "
      ]
     },
     "execution_count": 2,
     "metadata": {},
     "output_type": "execute_result"
    }
   ],
   "source": [
    "df = pd.read_csv('../Datasets/fertility2.csv')\n",
    "df.head()"
   ]
  },
  {
   "cell_type": "code",
   "execution_count": 3,
   "metadata": {},
   "outputs": [
    {
     "data": {
      "image/png": "[encoded data removed]",
      "text/plain": [
       "<Figure size 432x288 with 1 Axes>"
      ]
     },
     "metadata": {
      "needs_background": "light"
     },
     "output_type": "display_data"
    }
   ],
   "source": [
    "df['Diagnosis'].hist();"
   ]
  },
  {
   "cell_type": "markdown",
   "metadata": {},
   "source": [
    "### เช็ค missing values"
   ]
  },
  {
   "cell_type": "code",
   "execution_count": 4,
   "metadata": {},
   "outputs": [
    {
     "name": "stdout",
     "output_type": "stream",
     "text": [
      "<class 'pandas.core.frame.DataFrame'>\n",
      "RangeIndex: 139 entries, 0 to 138\n",
      "Data columns (total 10 columns):\n",
      " #   Column                            Non-Null Count  Dtype \n",
      "---  ------                            --------------  ----- \n",
      " 0   Age                               139 non-null    int64 \n",
      " 1   kidney diseases                   139 non-null    object\n",
      " 2   Fasting Blood sugar               139 non-null    int64 \n",
      " 3   Uri infection                     139 non-null    object\n",
      " 4   exercise habit                    139 non-null    object\n",
      " 5   Frequency of alcohol consumption  139 non-null    object\n",
      " 6   Smoking habit                     139 non-null    object\n",
      " 7   profession                        139 non-null    object\n",
      " 8   #hours spent sitting per day      139 non-null    int64 \n",
      " 9   Diagnosis                         139 non-null    object\n",
      "dtypes: int64(3), object(7)\n",
      "memory usage: 11.0+ KB\n"
     ]
    }
   ],
   "source": [
    "df.info()"
   ]
  },
  {
   "cell_type": "markdown",
   "metadata": {},
   "source": [
    "### เปลี่ยนค่า no กับ no exercise ใน exercise habit ให้เป็นค่าเดียวกัน"
   ]
  },
  {
   "cell_type": "code",
   "execution_count": 5,
   "metadata": {},
   "outputs": [
    {
     "data": {
      "text/plain": [
       "exercise habit\n",
       "more than 3 months ago      44\n",
       "no                          42\n",
       "less than 3 hours a week    39\n",
       "no exercise                  8\n",
       "less than 3 months ago       6\n",
       "Name: count, dtype: int64"
      ]
     },
     "execution_count": 5,
     "metadata": {},
     "output_type": "execute_result"
    }
   ],
   "source": [
    "df['exercise habit'].value_counts()"
   ]
  },
  {
   "cell_type": "code",
   "execution_count": 6,
   "metadata": {},
   "outputs": [
    {
     "data": {
      "text/plain": [
       "exercise habit\n",
       "no exercise                 50\n",
       "more than 3 months ago      44\n",
       "less than 3 hours a week    39\n",
       "less than 3 months ago       6\n",
       "Name: count, dtype: int64"
      ]
     },
     "execution_count": 6,
     "metadata": {},
     "output_type": "execute_result"
    }
   ],
   "source": [
    "df['exercise habit'] = df['exercise habit'].replace('no', 'no exercise')\n",
    "df['exercise habit'].value_counts()"
   ]
  },
  {
   "cell_type": "markdown",
   "metadata": {},
   "source": [
    "### แบ่ง features แบะ label"
   ]
  },
  {
   "cell_type": "code",
   "execution_count": 7,
   "metadata": {},
   "outputs": [
    {
     "data": {
      "text/plain": [
       "Index(['Age', 'kidney diseases', 'Fasting Blood sugar', 'Uri infection',\n",
       "       'exercise habit', 'Frequency of alcohol consumption', 'Smoking habit',\n",
       "       'profession', '#hours spent sitting per day', 'Diagnosis'],\n",
       "      dtype='object')"
      ]
     },
     "execution_count": 7,
     "metadata": {},
     "output_type": "execute_result"
    }
   ],
   "source": [
    "df.columns"
   ]
  },
  {
   "cell_type": "code",
   "execution_count": 8,
   "metadata": {},
   "outputs": [],
   "source": [
    "feature_cols = ['Age', 'kidney diseases', 'Fasting Blood sugar', 'Uri infection',\n",
    "       'exercise habit', 'Frequency of alcohol consumption', 'Smoking habit',\n",
    "       'profession', '#hours spent sitting per day']"
   ]
  },
  {
   "cell_type": "code",
   "execution_count": 9,
   "metadata": {},
   "outputs": [],
   "source": [
    "X = df[feature_cols]\n",
    "y = df['Diagnosis']\n",
    "\n",
    "X_train, X_test, y_train, y_test = train_test_split(X, y, test_size=.25, stratify=y, random_state=123)"
   ]
  },
  {
   "cell_type": "markdown",
   "metadata": {},
   "source": [
    "### preprocessing + build & train model"
   ]
  },
  {
   "cell_type": "code",
   "execution_count": 10,
   "metadata": {},
   "outputs": [
    {
     "data": {
      "text/plain": [
       "ColumnTransformer(remainder='passthrough',\n",
       "                  transformers=[('onehotencoder', OneHotEncoder(),\n",
       "                                 ['kidney diseases', 'Uri infection',\n",
       "                                  'exercise habit',\n",
       "                                  'Frequency of alcohol consumption',\n",
       "                                  'Smoking habit', 'profession'])])"
      ]
     },
     "execution_count": 10,
     "metadata": {},
     "output_type": "execute_result"
    }
   ],
   "source": [
    "col_trans = make_column_transformer(\n",
    "    (OneHotEncoder(), ['kidney diseases', 'Uri infection', \n",
    "                       'exercise habit', 'Frequency of alcohol consumption', \n",
    "                       'Smoking habit', 'profession']),\n",
    "    remainder='passthrough'\n",
    ")\n",
    "\n",
    "col_trans"
   ]
  },
  {
   "cell_type": "code",
   "execution_count": 11,
   "metadata": {},
   "outputs": [],
   "source": [
    "model = SVC(kernel='rbf')\n",
    "pipe = make_pipeline(col_trans, model)"
   ]
  },
  {
   "cell_type": "code",
   "execution_count": 12,
   "metadata": {},
   "outputs": [
    {
     "data": {
      "text/plain": [
       "Pipeline(steps=[('columntransformer',\n",
       "                 ColumnTransformer(remainder='passthrough',\n",
       "                                   transformers=[('onehotencoder',\n",
       "                                                  OneHotEncoder(),\n",
       "                                                  ['kidney diseases',\n",
       "                                                   'Uri infection',\n",
       "                                                   'exercise habit',\n",
       "                                                   'Frequency of alcohol '\n",
       "                                                   'consumption',\n",
       "                                                   'Smoking habit',\n",
       "                                                   'profession'])])),\n",
       "                ('svc', SVC())])"
      ]
     },
     "execution_count": 12,
     "metadata": {},
     "output_type": "execute_result"
    }
   ],
   "source": [
    "pipe.fit(X_train, y_train)"
   ]
  },
  {
   "cell_type": "markdown",
   "metadata": {},
   "source": [
    "### วัด score"
   ]
  },
  {
   "cell_type": "code",
   "execution_count": 13,
   "metadata": {},
   "outputs": [
    {
     "name": "stdout",
     "output_type": "stream",
     "text": [
      "Test score: 0.7714285714285715\n",
      "Train score: 0.7211538461538461\n"
     ]
    }
   ],
   "source": [
    "print('Test score:', pipe.score(X_test, y_test))\n",
    "print('Train score:', pipe.score(X_train, y_train))"
   ]
  },
  {
   "cell_type": "code",
   "execution_count": 14,
   "metadata": {},
   "outputs": [],
   "source": [
    "y_pred = pipe.predict(X_test)"
   ]
  },
  {
   "cell_type": "code",
   "execution_count": 15,
   "metadata": {},
   "outputs": [
    {
     "data": {
      "text/plain": [
       "array([[17,  3],\n",
       "       [ 5, 10]], dtype=int64)"
      ]
     },
     "execution_count": 15,
     "metadata": {},
     "output_type": "execute_result"
    }
   ],
   "source": [
    "metrics.confusion_matrix(y_test, y_pred)\n",
    "# ทายผิด 8\n",
    "# ทายถูก 27"
   ]
  }
 ],
 "metadata": {
  "kernelspec": {
   "display_name": "Python 3",
   "language": "python",
   "name": "python3"
  },
  "language_info": {
   "codemirror_mode": {
    "name": "ipython",
    "version": 3
   },
   "file_extension": ".py",
   "mimetype": "text/x-python",
   "name": "python",
   "nbconvert_exporter": "python",
   "pygments_lexer": "ipython3",
   "version": "3.8.3"
  }
 },
 "nbformat": 4,
 "nbformat_minor": 4
}
