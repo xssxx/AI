{
  "nbformat": 4,
  "nbformat_minor": 0,
  "metadata": {
    "colab": {
      "provenance": [],
      "gpuType": "T4"
    },
    "kernelspec": {
      "name": "python3",
      "display_name": "Python 3"
    },
    "language_info": {
      "name": "python"
    },
    "accelerator": "GPU"
  },
  "cells": [
    {
      "cell_type": "code",
      "execution_count": 2,
      "metadata": {
        "id": "tRNB53M0mgV6"
      },
      "outputs": [],
      "source": [
        "import tensorflow as tf\n",
        "import numpy as np\n",
        "from tensorflow.keras import Sequential\n",
        "from tensorflow.keras.layers import Dense, Flatten, Conv2D, MaxPooling2D\n",
        "import matplotlib.pyplot as plt"
      ]
    },
    {
      "cell_type": "code",
      "source": [
        "import warnings\n",
        "warnings.filterwarnings('ignore')"
      ],
      "metadata": {
        "id": "4snluzpsubnV"
      },
      "execution_count": 19,
      "outputs": []
    },
    {
      "cell_type": "code",
      "source": [
        "device = tf.test.gpu_device_name()\n",
        "print(device)"
      ],
      "metadata": {
        "colab": {
          "base_uri": "https://localhost:8080/"
        },
        "id": "8zEZ8MiG3dVM",
        "outputId": "fbcd74a3-62c0-4304-b750-be49574c6a5f"
      },
      "execution_count": 3,
      "outputs": [
        {
          "output_type": "stream",
          "name": "stdout",
          "text": [
            "/device:GPU:0\n"
          ]
        }
      ]
    },
    {
      "cell_type": "markdown",
      "source": [
        "## Linear Regression with tensorflow keras API"
      ],
      "metadata": {
        "id": "fWdkYn2qq8eD"
      }
    },
    {
      "cell_type": "code",
      "source": [
        "l0 = Dense(units=1, input_shape=[1])\n",
        "model = Sequential([l0])\n",
        "model.compile(optimizer='sgd', loss='mean_squared_error')\n",
        "\n",
        "# the relationship of x and y is Y = 2X - 1\n",
        "x = np.array([-1.0, 0.0, 1.0, 2.0, 3.0, 4.0], dtype=float)\n",
        "y = np.array([-3.0, -1.0, 1.0, 3.0, 5.0, 7.0], dtype=float)\n",
        "\n",
        "model.fit(x, y, epochs=500, verbose=0) # verbose=0 to hide epochs log\n",
        "print(model.predict([10.0]))\n",
        "print('Here is what i learn: {}'.format(l0.get_weights()))\n",
        "# Y = WX - B\n",
        "# Y = 1.9965292X - 0.9892394\n",
        "# it's close to Y = 2X - 1"
      ],
      "metadata": {
        "colab": {
          "base_uri": "https://localhost:8080/"
        },
        "id": "8geJQnR6mlBO",
        "outputId": "8dccf153-b0b9-4f3b-98fb-cfd42b8a299a"
      },
      "execution_count": 12,
      "outputs": [
        {
          "output_type": "stream",
          "name": "stdout",
          "text": [
            "1/1 [==============================] - 0s 68ms/step\n",
            "[[18.976053]]\n",
            "Here is what i learn: [array([[1.9965292]], dtype=float32), array([-0.9892394], dtype=float32)]\n"
          ]
        }
      ]
    },
    {
      "cell_type": "markdown",
      "source": [
        "## Computer vision\n",
        "train model by image pixels"
      ],
      "metadata": {
        "id": "l73KcGlArbES"
      }
    },
    {
      "cell_type": "code",
      "source": [
        "data = tf.keras.datasets.fashion_mnist\n",
        "\n",
        "(train_images, train_labels), (test_images, test_labels) = data.load_data()\n",
        "\n",
        "# แปลง greyscale ระหว่าง 0 - 255 ให้เหลือแค่ 0 - 1 (ด้วยการหาร 255)\n",
        "train_images = train_images / 255.0\n",
        "test_images = test_images / 255.0"
      ],
      "metadata": {
        "colab": {
          "base_uri": "https://localhost:8080/"
        },
        "id": "dLEdIKsnsH4g",
        "outputId": "c0dee5f8-186c-415b-8a67-513ad644665a"
      },
      "execution_count": 5,
      "outputs": [
        {
          "output_type": "stream",
          "name": "stdout",
          "text": [
            "Downloading data from https://storage.googleapis.com/tensorflow/tf-keras-datasets/train-labels-idx1-ubyte.gz\n",
            "29515/29515 [==============================] - 0s 1us/step\n",
            "Downloading data from https://storage.googleapis.com/tensorflow/tf-keras-datasets/train-images-idx3-ubyte.gz\n",
            "26421880/26421880 [==============================] - 2s 0us/step\n",
            "Downloading data from https://storage.googleapis.com/tensorflow/tf-keras-datasets/t10k-labels-idx1-ubyte.gz\n",
            "5148/5148 [==============================] - 0s 0us/step\n",
            "Downloading data from https://storage.googleapis.com/tensorflow/tf-keras-datasets/t10k-images-idx3-ubyte.gz\n",
            "4422102/4422102 [==============================] - 1s 0us/step\n"
          ]
        }
      ]
    },
    {
      "cell_type": "code",
      "source": [
        "class myCallback(tf.keras.callbacks.Callback):\n",
        "    # Override on_epoch_end method to stop traning when accuracy reached 95%\n",
        "    def on_epoch_end(self, epoch, logs={}):\n",
        "        if logs.get('accuracy') > 0.95:\n",
        "            print('\\nReached 95% accuracy so cancelling training!')\n",
        "            self.model.stop_training = True\n",
        "\n",
        "callbacks = myCallback()\n",
        "\n",
        "model = Sequential([\n",
        "    Flatten(input_shape=(28, 28)), # แปลงรูปภาพขนาด 28x28 ให้กลายเป็น layer เดียวด้วยการ flatten\n",
        "    Dense(128, activation=tf.nn.relu), # 128 = จำนวน neural ที่ต้องการใน layer\n",
        "    Dense(10, activation=tf.nn.softmax), # layer คำตอบมี 10 แบบ (เลข 0 - 9)\n",
        "])\n",
        "\n",
        "model.compile(\n",
        "    optimizer='adam', # นิยมใช้กับ CNN ประมวลผลภาพ\n",
        "    loss='sparse_categorical_crossentropy', # cross entropy นิยมใช้กับประเภท classification (จำแนกประเภท)\n",
        "    metrics=['accuracy']\n",
        ")\n",
        "\n",
        "model.fit(train_images, train_labels, epochs=50, callbacks=[callbacks])\n",
        "model.evaluate(test_images, test_labels)"
      ],
      "metadata": {
        "colab": {
          "base_uri": "https://localhost:8080/"
        },
        "id": "IFce3e5inMNQ",
        "outputId": "538720c9-9842-4999-e871-b83b11a134b5"
      },
      "execution_count": 38,
      "outputs": [
        {
          "output_type": "stream",
          "name": "stdout",
          "text": [
            "Epoch 1/50\n",
            "1875/1875 [==============================] - 8s 4ms/step - loss: 0.5038 - accuracy: 0.8238\n",
            "Epoch 2/50\n",
            "1875/1875 [==============================] - 8s 4ms/step - loss: 0.3778 - accuracy: 0.8647\n",
            "Epoch 3/50\n",
            "1875/1875 [==============================] - 7s 4ms/step - loss: 0.3376 - accuracy: 0.8768\n",
            "Epoch 4/50\n",
            "1875/1875 [==============================] - 8s 4ms/step - loss: 0.3128 - accuracy: 0.8837\n",
            "Epoch 5/50\n",
            "1875/1875 [==============================] - 8s 4ms/step - loss: 0.2956 - accuracy: 0.8903\n",
            "Epoch 6/50\n",
            "1875/1875 [==============================] - 7s 4ms/step - loss: 0.2831 - accuracy: 0.8947\n",
            "Epoch 7/50\n",
            "1875/1875 [==============================] - 8s 4ms/step - loss: 0.2686 - accuracy: 0.8989\n",
            "Epoch 8/50\n",
            "1875/1875 [==============================] - 8s 4ms/step - loss: 0.2570 - accuracy: 0.9043\n",
            "Epoch 9/50\n",
            "1875/1875 [==============================] - 7s 4ms/step - loss: 0.2471 - accuracy: 0.9073\n",
            "Epoch 10/50\n",
            "1875/1875 [==============================] - 8s 4ms/step - loss: 0.2398 - accuracy: 0.9099\n",
            "Epoch 11/50\n",
            "1875/1875 [==============================] - 7s 4ms/step - loss: 0.2317 - accuracy: 0.9132\n",
            "Epoch 12/50\n",
            "1875/1875 [==============================] - 8s 4ms/step - loss: 0.2240 - accuracy: 0.9156\n",
            "Epoch 13/50\n",
            "1875/1875 [==============================] - 8s 4ms/step - loss: 0.2172 - accuracy: 0.9177\n",
            "Epoch 14/50\n",
            "1875/1875 [==============================] - 7s 4ms/step - loss: 0.2104 - accuracy: 0.9202\n",
            "Epoch 15/50\n",
            "1875/1875 [==============================] - 8s 4ms/step - loss: 0.2057 - accuracy: 0.9232\n",
            "Epoch 16/50\n",
            "1875/1875 [==============================] - 7s 4ms/step - loss: 0.1988 - accuracy: 0.9251\n",
            "Epoch 17/50\n",
            "1875/1875 [==============================] - 8s 4ms/step - loss: 0.1937 - accuracy: 0.9263\n",
            "Epoch 18/50\n",
            "1875/1875 [==============================] - 8s 4ms/step - loss: 0.1883 - accuracy: 0.9293\n",
            "Epoch 19/50\n",
            "1875/1875 [==============================] - 8s 4ms/step - loss: 0.1841 - accuracy: 0.9305\n",
            "Epoch 20/50\n",
            "1875/1875 [==============================] - 9s 5ms/step - loss: 0.1789 - accuracy: 0.9334\n",
            "Epoch 21/50\n",
            "1875/1875 [==============================] - 8s 4ms/step - loss: 0.1746 - accuracy: 0.9338\n",
            "Epoch 22/50\n",
            "1875/1875 [==============================] - 7s 4ms/step - loss: 0.1703 - accuracy: 0.9368\n",
            "Epoch 23/50\n",
            "1875/1875 [==============================] - 8s 5ms/step - loss: 0.1664 - accuracy: 0.9377\n",
            "Epoch 24/50\n",
            "1875/1875 [==============================] - 8s 4ms/step - loss: 0.1621 - accuracy: 0.9398\n",
            "Epoch 25/50\n",
            "1875/1875 [==============================] - 8s 4ms/step - loss: 0.1589 - accuracy: 0.9404\n",
            "Epoch 26/50\n",
            "1875/1875 [==============================] - 8s 4ms/step - loss: 0.1553 - accuracy: 0.9416\n",
            "Epoch 27/50\n",
            "1875/1875 [==============================] - 7s 4ms/step - loss: 0.1515 - accuracy: 0.9423\n",
            "Epoch 28/50\n",
            "1875/1875 [==============================] - 8s 4ms/step - loss: 0.1492 - accuracy: 0.9434\n",
            "Epoch 29/50\n",
            "1875/1875 [==============================] - 7s 4ms/step - loss: 0.1463 - accuracy: 0.9448\n",
            "Epoch 30/50\n",
            "1875/1875 [==============================] - 7s 4ms/step - loss: 0.1420 - accuracy: 0.9464\n",
            "Epoch 31/50\n",
            "1875/1875 [==============================] - 8s 4ms/step - loss: 0.1401 - accuracy: 0.9469\n",
            "Epoch 32/50\n",
            "1875/1875 [==============================] - 7s 4ms/step - loss: 0.1364 - accuracy: 0.9483\n",
            "Epoch 33/50\n",
            "1875/1875 [==============================] - 8s 4ms/step - loss: 0.1337 - accuracy: 0.9491\n",
            "Epoch 34/50\n",
            "1875/1875 [==============================] - 7s 4ms/step - loss: 0.1310 - accuracy: 0.9498\n",
            "Epoch 35/50\n",
            "1872/1875 [============================>.] - ETA: 0s - loss: 0.1292 - accuracy: 0.9516\n",
            "Reached 95% accuracy so cancelling training!\n",
            "1875/1875 [==============================] - 8s 4ms/step - loss: 0.1291 - accuracy: 0.9516\n",
            "313/313 [==============================] - 1s 2ms/step - loss: 0.4202 - accuracy: 0.8916\n"
          ]
        },
        {
          "output_type": "execute_result",
          "data": {
            "text/plain": [
              "[0.42016878724098206, 0.8916000127792358]"
            ]
          },
          "metadata": {},
          "execution_count": 38
        }
      ]
    },
    {
      "cell_type": "code",
      "source": [
        "classifications = model.predict(test_images)\n",
        "print(classifications[0].shape) # shape = 10 เพราะคำตอบมี 10 แบบ (0-9) ซึ่ง index ที่ 9 (เลข 9) มีค่ามากสุดจึงตอบ 9\n",
        "print(np.argmax(classifications[0]))\n",
        "print(test_labels[0])"
      ],
      "metadata": {
        "colab": {
          "base_uri": "https://localhost:8080/"
        },
        "id": "5THrAFL8uBIS",
        "outputId": "3ed1c55b-6ff4-45ae-f1d5-e5a43cc53e30"
      },
      "execution_count": 39,
      "outputs": [
        {
          "output_type": "stream",
          "name": "stdout",
          "text": [
            "313/313 [==============================] - 1s 2ms/step\n",
            "(10,)\n",
            "9\n",
            "9\n"
          ]
        }
      ]
    },
    {
      "cell_type": "markdown",
      "source": [
        "## Convolutional neural network (CNN)\n",
        "filter images down to constitent element instead of pixels"
      ],
      "metadata": {
        "id": "nf23lKDcyfE1"
      }
    },
    {
      "cell_type": "code",
      "source": [
        "model = Sequential([\n",
        "    Conv2D(64, (3, 3), activation='relu', input_shape=(28, 28, 1)),\n",
        "    MaxPooling2D(2, 2), # ลดขนาดรูปภาพโดยการเอาค่าสี pixels ที่มากที่สุด\n",
        "    Conv2D(64,(3, 3), activation='relu'),\n",
        "    MaxPooling2D(2, 2),\n",
        "    Flatten(),\n",
        "    Dense(128, activation=tf.nn.relu),\n",
        "    Dense(10, activation=tf.nn.softmax) # softmax นิยมใช้กับ classification แบ่งประเภท\n",
        "])\n",
        "\n",
        "model.compile(\n",
        "    optimizer='adam',\n",
        "    loss='sparse_categorical_crossentropy',\n",
        "    metrics=['accuracy']\n",
        ")\n",
        "\n",
        "model.fit(train_images, train_labels, epochs=5)\n",
        "model.evaluate(test_images, test_labels)"
      ],
      "metadata": {
        "colab": {
          "base_uri": "https://localhost:8080/"
        },
        "id": "gCSnRma1yiFf",
        "outputId": "66defc0f-3ada-4e9b-9a4e-78c74da7a078"
      },
      "execution_count": 7,
      "outputs": [
        {
          "output_type": "stream",
          "name": "stdout",
          "text": [
            "Epoch 1/5\n",
            "1875/1875 [==============================] - 17s 4ms/step - loss: 0.4459 - accuracy: 0.8382\n",
            "Epoch 2/5\n",
            "1875/1875 [==============================] - 7s 4ms/step - loss: 0.2978 - accuracy: 0.8906\n",
            "Epoch 3/5\n",
            "1875/1875 [==============================] - 6s 3ms/step - loss: 0.2509 - accuracy: 0.9069\n",
            "Epoch 4/5\n",
            "1875/1875 [==============================] - 7s 4ms/step - loss: 0.2177 - accuracy: 0.9197\n",
            "Epoch 5/5\n",
            "1875/1875 [==============================] - 7s 4ms/step - loss: 0.1935 - accuracy: 0.9269\n",
            "313/313 [==============================] - 1s 3ms/step - loss: 0.2755 - accuracy: 0.9059\n"
          ]
        },
        {
          "output_type": "execute_result",
          "data": {
            "text/plain": [
              "[0.27545616030693054, 0.9059000015258789]"
            ]
          },
          "metadata": {},
          "execution_count": 7
        }
      ]
    },
    {
      "cell_type": "code",
      "source": [
        "classifications = model.predict(test_images)\n",
        "print(np.argmax(classifications[1]))\n",
        "print(test_labels[1])"
      ],
      "metadata": {
        "colab": {
          "base_uri": "https://localhost:8080/"
        },
        "id": "zALZ4PW103_e",
        "outputId": "44373f87-a292-4f19-f189-0e66edc45126"
      },
      "execution_count": 9,
      "outputs": [
        {
          "output_type": "stream",
          "name": "stdout",
          "text": [
            "313/313 [==============================] - 1s 2ms/step\n",
            "2\n",
            "2\n"
          ]
        }
      ]
    },
    {
      "cell_type": "code",
      "source": [],
      "metadata": {
        "id": "HZCKtK3D3-ug"
      },
      "execution_count": null,
      "outputs": []
    }
  ]
}